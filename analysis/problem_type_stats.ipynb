{
 "cells": [
  {
   "cell_type": "code",
   "execution_count": 1,
   "metadata": {},
   "outputs": [],
   "source": [
    "import pickle\n",
    "from collections import namedtuple\n",
    "example = namedtuple('example', ['grid', 'robots', 'token', 'path', 'expl'])\n",
    "\n",
    "with open('../data2/dataset6.pkl','rb') as f:\n",
    "    dataset = pickle.load(f)"
   ]
  },
  {
   "cell_type": "code",
   "execution_count": 2,
   "metadata": {},
   "outputs": [
    {
     "data": {
      "text/plain": [
       "99509"
      ]
     },
     "execution_count": 2,
     "metadata": {},
     "output_type": "execute_result"
    }
   ],
   "source": [
    "len(dataset)"
   ]
  },
  {
   "cell_type": "code",
   "execution_count": 2,
   "metadata": {},
   "outputs": [
    {
     "data": {
      "text/plain": [
       "'Y'"
      ]
     },
     "execution_count": 2,
     "metadata": {},
     "output_type": "execute_result"
    }
   ],
   "source": [
    "i = 0\n",
    "expl,goal_robot,path = dataset[i].expl,dataset[i].token[0],dataset[i].path\n",
    "goal_robot"
   ]
  },
  {
   "cell_type": "code",
   "execution_count": 3,
   "metadata": {},
   "outputs": [
    {
     "data": {
      "text/plain": [
       "[('G', 'Help', 'Y', 6), ('Y', 'get', 'goal', 7)]"
      ]
     },
     "execution_count": 3,
     "metadata": {},
     "output_type": "execute_result"
    }
   ],
   "source": [
    "expl"
   ]
  },
  {
   "cell_type": "code",
   "execution_count": 4,
   "metadata": {},
   "outputs": [
    {
     "data": {
      "text/plain": [
       "[('Y', 'E'),\n",
       " ('G', 'W'),\n",
       " ('G', 'N'),\n",
       " ('G', 'E'),\n",
       " ('G', 'N'),\n",
       " ('Y', 'N'),\n",
       " ('Y', 'W')]"
      ]
     },
     "execution_count": 4,
     "metadata": {},
     "output_type": "execute_result"
    }
   ],
   "source": [
    "path"
   ]
  },
  {
   "cell_type": "code",
   "execution_count": 5,
   "metadata": {},
   "outputs": [
    {
     "data": {
      "text/plain": [
       "'000000000000100000000000000000000000000000000000'"
      ]
     },
     "execution_count": 5,
     "metadata": {},
     "output_type": "execute_result"
    }
   ],
   "source": [
    "vectorized_dataset = []\n",
    "from collections import defaultdict\n",
    "colors = set(['R','B','Y','G'])\n",
    "interaction_type = {'HA':1,'HP':2,'A':3}\n",
    "for data in dataset:\n",
    "    expl = data.expl\n",
    "    path = data.path\n",
    "    goal_robot = data.token[0]\n",
    "    fine_expl = []\n",
    "    sorted_expl = sorted(expl,key=lambda x:x[3])\n",
    "    start_for_robots = {'R':0,'B':0,'G':0,'Y':0}\n",
    "    for act in sorted_expl:\n",
    "        if act[1] == \"Avoid\":\n",
    "            fine_expl.append((act[0],'A',act[2]))\n",
    "        elif act[1]==\"get\":\n",
    "            continue\n",
    "        else:\n",
    "            start = start_for_robots[act[0]]\n",
    "            end = act[3]\n",
    "            if act[0] in map(lambda x:x[0],path[start:end]):\n",
    "                fine_expl.append((act[0],'HA',act[2]))\n",
    "            else:\n",
    "                fine_expl.append((act[0],'HP',act[2]))\n",
    "            start_for_robots[act[0]] = end\n",
    "    selected_colors = colors.difference(set([goal_robot]))\n",
    "    data_dict = {c:[0,0,0,0] for c in selected_colors}\n",
    "    for act in fine_expl:\n",
    "        if act[0]==goal_robot:\n",
    "            continue\n",
    "        data_dict[act[0]][0] +=1\n",
    "        data_dict[act[0]][interaction_type[act[1]]] += 1\n",
    "    robot_order = {k:v for v,k in enumerate([goal_robot] + list(map(lambda x:x[0],sorted(data_dict.items(),key=lambda x:x[1],reverse=True))))}    \n",
    "    pre_vector = [[[0,0,0] for j in colors] for i in colors]\n",
    "    for act in fine_expl:\n",
    "        pre_vector[robot_order[act[0]]][robot_order[act[2]]][interaction_type[act[1]]-1] += 1\n",
    "    vector = []\n",
    "    for j in pre_vector:\n",
    "        for i in j:\n",
    "            vector += i\n",
    "    vectorized_dataset.append(\"\".join(map(str,vector)))\n",
    "vectorized_dataset[0]"
   ]
  },
  {
   "cell_type": "code",
   "execution_count": 6,
   "metadata": {},
   "outputs": [
    {
     "data": {
      "text/plain": [
       "1275"
      ]
     },
     "execution_count": 6,
     "metadata": {},
     "output_type": "execute_result"
    }
   ],
   "source": [
    "from collections import Counter\n",
    "distr = Counter(vectorized_dataset)\n",
    "len(distr)"
   ]
  },
  {
   "cell_type": "code",
   "execution_count": 7,
   "metadata": {},
   "outputs": [],
   "source": [
    "interaction_type_rev = {1:'helped actively',2:'helped passively',3:'avoided'}\n",
    "def decode_index(index):\n",
    "    helper_id = (index // 12) + 1\n",
    "    remainder = index % 12\n",
    "    helped_id = (remainder // 3) + 1 \n",
    "    remainder2 = (remainder % 3) + 1\n",
    "    return f'R{helper_id} {interaction_type_rev[remainder2]} R{helped_id}'\n",
    "    \n",
    "def decode_str(code):\n",
    "    decoded = []\n",
    "    for i,s in enumerate(code):\n",
    "        if s!= '0':\n",
    "            decoded.append((decode_index(i),s))\n",
    "    return decoded"
   ]
  },
  {
   "cell_type": "code",
   "execution_count": 8,
   "metadata": {},
   "outputs": [],
   "source": [
    "sorted_distr = sorted([[k,v] for k,v in distr.items()],key=lambda x:x[1],reverse=True)"
   ]
  },
  {
   "cell_type": "code",
   "execution_count": 13,
   "metadata": {},
   "outputs": [
    {
     "data": {
      "text/plain": [
       "97772"
      ]
     },
     "execution_count": 13,
     "metadata": {},
     "output_type": "execute_result"
    }
   ],
   "source": [
    "suma = 0\n",
    "for i in sorted_distr[:200]:\n",
    "    suma+=i[1]\n",
    "suma"
   ]
  },
  {
   "cell_type": "code",
   "execution_count": 10,
   "metadata": {},
   "outputs": [
    {
     "name": "stdout",
     "output_type": "stream",
     "text": [
      "(1, 2, 3, 4, 5, 6, 7, 8, 9, 10, 11, 12, 13, 14, 15, 16, 17, 18, 19, 20, 21, 22, 23, 24, 25, 26, 27, 28, 29, 30)\n"
     ]
    },
    {
     "data": {
      "image/png": "[encoded data removed]",
      "text/plain": [
       "<Figure size 432x288 with 1 Axes>"
      ]
     },
     "metadata": {
      "needs_background": "light"
     },
     "output_type": "display_data"
    }
   ],
   "source": [
    "from collections import Counter\n",
    "import numpy as np\n",
    "import matplotlib.pyplot as plt\n",
    "suma = 0\n",
    "c = Counter()\n",
    "for data in dataset:\n",
    "    c[len(data.path)] += 1\n",
    "\n",
    "\n",
    "labels, values = zip(*sorted(c.items(),key=lambda x:x[0]))\n",
    "print(labels)\n",
    "indexes = np.arange(len(labels))\n",
    "width = 1\n",
    "\n",
    "plt.bar(indexes, values, width)\n",
    "plt.xticks(indexes + width * 0.5, labels)\n",
    "plt.show()"
   ]
  },
  {
   "cell_type": "code",
   "execution_count": 14,
   "metadata": {},
   "outputs": [
    {
     "data": {
      "text/plain": [
       "10178"
      ]
     },
     "execution_count": 14,
     "metadata": {},
     "output_type": "execute_result"
    }
   ],
   "source": [
    "suma = 0\n",
    "for s in sorted_distr[:]:\n",
    "    decoded = decode_str(s[0])\n",
    "    ln = len(decoded)\n",
    "    helpers = list(map(lambda x:x[0][:2],decoded))\n",
    "    if 'R1' in helpers:\n",
    "        suma += s[1]\n",
    "\n",
    "    if not 'R1' in helpers and ln > 2:\n",
    "        suma += s[1]\n",
    "        #print(decode_str(s[0]),s[1])\n",
    "suma"
   ]
  },
  {
   "cell_type": "code",
   "execution_count": 18,
   "metadata": {},
   "outputs": [
    {
     "name": "stdout",
     "output_type": "stream",
     "text": [
      "[('R2 avoided R1', '1'), ('R3 avoided R1', '1'), ('R4 avoided R1', '1')] 3\n",
      "[('R1 avoided R2', '1'), ('R2 helped passively R1', '1'), ('R2 avoided R1', '1'), ('R3 avoided R1', '1')] 2\n",
      "[('R1 avoided R2', '1'), ('R2 avoided R1', '1'), ('R3 avoided R1', '1')] 1\n",
      "[('R1 avoided R3', '1'), ('R2 avoided R1', '1'), ('R2 helped actively R3', '1'), ('R3 helped actively R1', '1'), ('R3 avoided R1', '1')] 1\n",
      "[('R1 avoided R2', '1'), ('R2 helped actively R1', '1'), ('R2 avoided R1', '1'), ('R3 avoided R1', '1'), ('R3 helped actively R2', '1')] 1\n",
      "[('R1 avoided R2', '1'), ('R2 helped passively R1', '1'), ('R2 avoided R1', '1'), ('R3 helped actively R1', '1'), ('R4 avoided R1', '1')] 1\n",
      "[('R2 helped actively R1', '1'), ('R2 helped actively R3', '1'), ('R2 avoided R3', '1'), ('R3 helped actively R1', '1'), ('R3 avoided R2', '1'), ('R4 helped actively R1', '1'), ('R4 avoided R2', '1')] 1\n",
      "10\n"
     ]
    }
   ],
   "source": [
    "suma = 0\n",
    "for s in sorted_distr[:]:\n",
    "    decoded = decode_str(s[0])\n",
    "    ln = len(decoded)\n",
    "    helpers = list(map(lambda x:'av'==x[0][3:5],decoded))\n",
    "    if sum(helpers)>2:\n",
    "        suma += s[1]\n",
    "        print(decode_str(s[0]),s[1])\n",
    "print(suma)"
   ]
  },
  {
   "cell_type": "code",
   "execution_count": 20,
   "metadata": {},
   "outputs": [
    {
     "data": {
      "text/plain": [
       "1275"
      ]
     },
     "execution_count": 20,
     "metadata": {},
     "output_type": "execute_result"
    }
   ],
   "source": [
    "len(sorted_distr)"
   ]
  },
  {
   "cell_type": "code",
   "execution_count": 36,
   "metadata": {},
   "outputs": [],
   "source": [
    "lenghts = [len(i.expl) for i in dataset]"
   ]
  },
  {
   "cell_type": "code",
   "execution_count": 37,
   "metadata": {},
   "outputs": [
    {
     "data": {
      "text/plain": [
       "[2, 2, 3, 1, 2, 2, 2, 2, 1, 1]"
      ]
     },
     "execution_count": 37,
     "metadata": {},
     "output_type": "execute_result"
    }
   ],
   "source": [
    "lenghts[:10]"
   ]
  },
  {
   "cell_type": "code",
   "execution_count": 38,
   "metadata": {},
   "outputs": [
    {
     "data": {
      "text/plain": [
       "Text(23, 45, '$\\\\mu=15, b=3$')"
      ]
     },
     "execution_count": 38,
     "metadata": {},
     "output_type": "execute_result"
    },
    {
     "data": {
      "image/png": "[encoded data removed]",
      "text/plain": [
       "<Figure size 432x288 with 1 Axes>"
      ]
     },
     "metadata": {
      "needs_background": "light"
     },
     "output_type": "display_data"
    }
   ],
   "source": [
    "import matplotlib.pyplot as plt\n",
    "\n",
    "# An \"interface\" to matplotlib.axes.Axes.hist() method\n",
    "n, bins, patches = plt.hist(x=lenghts, bins='auto', color='#0504aa',\n",
    "                            alpha=0.7, rwidth=1)\n",
    "plt.grid(axis='y', alpha=0.75)\n",
    "plt.xlabel('Value')\n",
    "plt.ylabel('Frequency')\n",
    "plt.title('My Very Own Histogram')\n",
    "plt.text(23, 45, r'$\\mu=15, b=3$')"
   ]
  },
  {
   "cell_type": "code",
   "execution_count": null,
   "metadata": {},
   "outputs": [],
   "source": []
  }
 ],
 "metadata": {
  "kernelspec": {
   "display_name": "Python 3",
   "language": "python",
   "name": "python3"
  },
  "language_info": {
   "codemirror_mode": {
    "name": "ipython",
    "version": 3
   },
   "file_extension": ".py",
   "mimetype": "text/x-python",
   "name": "python",
   "nbconvert_exporter": "python",
   "pygments_lexer": "ipython3",
   "version": "3.7.6"
  }
 },
 "nbformat": 4,
 "nbformat_minor": 4
}
